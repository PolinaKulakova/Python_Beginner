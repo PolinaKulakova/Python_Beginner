{
  "cells": [
    {
      "metadata": {},
      "cell_type": "markdown",
      "source": "# 1-5.2 Python Intro  \n## conditionals, type, and mathematics extended\n- conditionals: `elif`  \n- casting   \n- **basic math operators**  \n\n-----\n\n><font size=\"5\" color=\"#00A0B2\"  face=\"verdana\"> <B>Student will be able to</B></font>\n- code more than two choices using `elif`  \n- gather numeric input using type casting   \n- **perform subtraction, multiplication and division operations in code** \n"
    },
    {
      "metadata": {
        "collapsed": true
      },
      "cell_type": "markdown",
      "source": "# &nbsp;\n<font size=\"6\" color=\"#00A0B2\"  face=\"verdana\"> <B>Concepts</B></font>\n## Math basic operators\n### `+` addition\n### `-` subtraction\n### `*` multiplication\n### `/` division  \n[![view video](https://iajupyterprodblobs.blob.core.windows.net/imagecontainer/common/play_video.png)]( http://edxinteractivepage.blob.core.windows.net/edxpages/f7cff1a7-5601-48a1-95a6-fd1fdfabd20e.html?details=[{\"src\":\"http://jupyternootbookwams.streaming.mediaservices.windows.net/5bc97f7e-3015-4178-ac20-371a5302def1/Unit1_Section5.2-Math-operators.ism/manifest\",\"type\":\"application/vnd.ms-sstr+xml\"}],[{\"src\":\"http://jupyternootbookwams.streaming.mediaservices.windows.net/5bc97f7e-3015-4178-ac20-371a5302def1/Unit1_Section5.2-Math-operators.vtt\",\"srclang\":\"en\",\"kind\":\"subtitles\",\"label\":\"english\"}])"
    },
    {
      "metadata": {
        "collapsed": true
      },
      "cell_type": "markdown",
      "source": "# &nbsp;\n<font size=\"6\" color=\"#00A0B2\"  face=\"verdana\"> <B>Examples</B></font>"
    },
    {
      "metadata": {
        "trusted": true
      },
      "cell_type": "code",
      "source": "# [ ] review and run example\nprint(\"3 + 5 =\",3 + 5)\nprint(\"3 + 5 - 9 =\", 3 + 5 - 9)\nprint(\"48/9 =\", 48/9)\nprint(\"5*5 =\", 5*5)\nprint(\"(14 - 8)*(19/4) =\", (14 - 8)*(19/4))",
      "execution_count": 2,
      "outputs": [
        {
          "output_type": "stream",
          "text": "3 + 5 = 8\n3 + 5 - 9 = -1\n48/9 = 5.333333333333333\n5*5 = 25\n(14 - 8)*(19/4) = 28.5\n",
          "name": "stdout"
        }
      ]
    },
    {
      "metadata": {
        "trusted": true
      },
      "cell_type": "code",
      "source": "# [ ] review and run example - 'million_maker'\ndef million_maker():\n    make_big = input(\"enter a non-decimal number you wish were bigger: \")\n    return int(make_big)*1000000\n\nprint(\"Now you have\", million_maker())\n",
      "execution_count": 4,
      "outputs": [
        {
          "output_type": "stream",
          "name": "stdout",
          "text": "enter a non-decimal number you wish were bigger: 33\nNow you have 33000000\n"
        }
      ]
    },
    {
      "metadata": {},
      "cell_type": "markdown",
      "source": "# &nbsp;\n<font size=\"6\" color=\"#B24C00\"  face=\"verdana\"> <B>Task 1</B></font>\n## use math operators to solve the set of tasks below"
    },
    {
      "metadata": {
        "trusted": true
      },
      "cell_type": "code",
      "source": "# [ ] print the result of subtracting 15 from 43\n15 - 43\n",
      "execution_count": 5,
      "outputs": [
        {
          "output_type": "execute_result",
          "execution_count": 5,
          "data": {
            "text/plain": "-28"
          },
          "metadata": {}
        }
      ]
    },
    {
      "metadata": {
        "trusted": true
      },
      "cell_type": "code",
      "source": "# [ ] print the result of multiplying 15 and 43\n15 * 43\n\n",
      "execution_count": 6,
      "outputs": [
        {
          "output_type": "execute_result",
          "execution_count": 6,
          "data": {
            "text/plain": "645"
          },
          "metadata": {}
        }
      ]
    },
    {
      "metadata": {
        "trusted": false
      },
      "cell_type": "code",
      "source": "# [ ] print the result of dividing 156 by 12\n\n",
      "execution_count": null,
      "outputs": []
    },
    {
      "metadata": {
        "trusted": false
      },
      "cell_type": "code",
      "source": "# [ ] print the result of dividing 21 by 0.5\n\n",
      "execution_count": null,
      "outputs": []
    },
    {
      "metadata": {
        "trusted": false
      },
      "cell_type": "code",
      "source": "# [ ] print the result of adding 111 plus 84 and then subtracting 45\n\n",
      "execution_count": null,
      "outputs": []
    },
    {
      "metadata": {
        "trusted": false
      },
      "cell_type": "code",
      "source": "# [ ] print the result of adding 21 and 4 and then multiplying that sum by 4\n\n",
      "execution_count": null,
      "outputs": []
    },
    {
      "metadata": {
        "collapsed": true
      },
      "cell_type": "markdown",
      "source": "# &nbsp;\n<font size=\"6\" color=\"#B24C00\"  face=\"verdana\"> <B>Task 2</B></font>\n## Program: Multiplying Calculator Function\n- define function **`multiply()`**, and within the function:\n  - gets user input() of 2 *strings* made of whole numbers\n  - cast the input to **`int()`**\n  - multiply the integers and **return** the equation with result as a **`str()`**\n    - **return** example \n     ```python\n     9 * 13 = 117\n     ```"
    },
    {
      "metadata": {
        "trusted": true
      },
      "cell_type": "code",
      "source": "# [ ] create and test multiply() function\ndef multiply():\n    user_input1 = input(\"add your number here: \")\n    user_input2 = input(\"add your number here: \")\n    return int(user_input1) * int(user_input2)\nprint(\"The answer to the equasion is:\", str(multiply()))\n\n",
      "execution_count": 13,
      "outputs": [
        {
          "output_type": "stream",
          "name": "stdout",
          "text": "add your number here: 3\nadd your number here: 4\nThe answer to the equasion is: 12\n"
        }
      ]
    },
    {
      "metadata": {
        "collapsed": true
      },
      "cell_type": "markdown",
      "source": "# &nbsp;\n<font size=\"6\" color=\"#B24C00\"  face=\"verdana\"> <B>Task 3</B></font>\n## Project: Improved Multiplying Calculator Function\n### putting together conditionals, input casting and math\n- #### update the multiply() function to multiply or divide \n  - single parameter is **`operator`** with arguments of **`*`** or **`/`** operator\n  - default operator is \"*\" (multiply)\n  - **return** the result of multiplication or division\n  - if operator other than **`\"*\"`** or **`\"/\"`**  then **` return \"Invalid Operator\"`**"
    },
    {
      "metadata": {
        "trusted": true
      },
      "cell_type": "code",
      "source": "# [ ] create improved multiply() function and test with /, no argument, and an invalid operator ($)\ndef multiply():\n    user_input1 = input(\"add your number here: \")\n    user_input2 = input(\"add your number here: \")\n    user_input3 = input(\"enter the action: \")\n    if user_input3 == \"*\":\n        return int(user_input1) * int(user_input2)\n    elif user_input3 == \"/\":\n        return int(user_input1) / int(user_input2)\n    else:\n        pass\n   \n\nprint(\"The answer to the equasion is:\", str(multiply()))",
      "execution_count": 34,
      "outputs": [
        {
          "output_type": "stream",
          "name": "stdout",
          "text": "add your number here: 2\nadd your number here: 2\nenter the action: /\nThe answer to the equasion is: 1.0\n"
        }
      ]
    },
    {
      "metadata": {},
      "cell_type": "markdown",
      "source": "# &nbsp;\n<font size=\"6\" color=\"#B24C00\"  face=\"verdana\"> <B>Task 4</B></font>\n## Fix the Errors"
    },
    {
      "metadata": {
        "trusted": true
      },
      "cell_type": "code",
      "source": "# Review, run, fix \nstudent_name = input(\"enter name: \")\nif student_name.startswith(\"F\"):\n    print(student_name.capitalize(),\"Congratulations, names starting with 'F' get to go first today!\")\nelif student_name.startswith(\"G\"):\n    print(student_name.capitalize(),\"Congratulations, names starting with 'G' get to go second today!\")\nelse:\n    print(student_name.capitalize(), \"please wait for students with names staring with 'F' and 'G' to go first today.\")\n\n",
      "execution_count": 38,
      "outputs": [
        {
          "output_type": "stream",
          "name": "stdout",
          "text": "enter name: polly\nPolly please wait for students with names staring with 'F' and 'G' to go first today.\n"
        }
      ]
    },
    {
      "metadata": {
        "collapsed": true
      },
      "cell_type": "markdown",
      "source": "[Terms of use](http://go.microsoft.com/fwlink/?LinkID=206977) &nbsp; [Privacy & cookies](https://go.microsoft.com/fwlink/?LinkId=521839) &nbsp; © 2017 Microsoft"
    }
  ],
  "metadata": {
    "anaconda-cloud": {},
    "kernelspec": {
      "name": "python3",
      "display_name": "Python 3",
      "language": "python"
    },
    "language_info": {
      "mimetype": "text/x-python",
      "nbconvert_exporter": "python",
      "name": "python",
      "file_extension": ".py",
      "version": "3.5.4",
      "pygments_lexer": "ipython3",
      "codemirror_mode": {
        "version": 3,
        "name": "ipython"
      }
    }
  },
  "nbformat": 4,
  "nbformat_minor": 1
}