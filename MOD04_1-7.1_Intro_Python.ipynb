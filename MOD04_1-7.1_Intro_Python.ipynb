{
  "cells": [
    {
      "metadata": {},
      "cell_type": "markdown",
      "source": "# 1-7.1 Intro Python\n## `while()` loops & increments\n- **while `True`  or forever loops**\n- **incrementing in loops**\n- Boolean operators in while loops\n\n\n-----  \n\n><font size=\"5\" color=\"#00A0B2\"  face=\"verdana\"> <B>Student will be able to</B></font>\n- **create forever loops using `while` and `break`**\n- **use incrementing variables in a while loop**\n- control while loops using Boolean operators"
    },
    {
      "metadata": {},
      "cell_type": "markdown",
      "source": "# &nbsp;\n<font size=\"6\" color=\"#00A0B2\"  face=\"verdana\"> <B>Concepts</B></font>\n## `while True:`\n### Using the 'while True:' loop\n[![view video](https://iajupyterprodblobs.blob.core.windows.net/imagecontainer/common/play_video.png)]( http://edxinteractivepage.blob.core.windows.net/edxpages/f7cff1a7-5601-48a1-95a6-fd1fdfabd20e.html?details=[{\"src\":\"http://jupyternootbookwams.streaming.mediaservices.windows.net/f43862cd-7cdc-45a3-adb1-a07dcbd9ae16/Unit1_Section7.1-while-forever.ism/manifest\",\"type\":\"application/vnd.ms-sstr+xml\"}],[{\"src\":\"http://jupyternootbookwams.streaming.mediaservices.windows.net/f43862cd-7cdc-45a3-adb1-a07dcbd9ae16/Unit1_Section7.1-while-forever.vtt\",\"srclang\":\"en\",\"kind\":\"subtitles\",\"label\":\"english\"}])\n\n**`while True:`** is known as the **forever loop** because it ...loops forever  \n\nUsing the **`while True:`** statement results in a loop that continues to run forever   \n...or, until the loop is interrupted, such as with a **`break`** statement  \n\n## `break`\n### in a `while` loop, causes code flow to exit the loop  \na **conditional** can implement **`break`** to exit a **`while True`** loop  "
    },
    {
      "metadata": {},
      "cell_type": "markdown",
      "source": "# &nbsp;\n<font size=\"6\" color=\"#00A0B2\"  face=\"verdana\"> <B>Examples</B></font>\n## `while True` loops forever unless a `break` statement is used  "
    },
    {
      "metadata": {
        "trusted": true
      },
      "cell_type": "code",
      "source": "# Review and run code\n# this example never loops because the break has no conditions\nwhile True:\n    print('write forever, unless there is a \"break\"')\n    break\n    ",
      "execution_count": null,
      "outputs": []
    },
    {
      "metadata": {
        "trusted": true
      },
      "cell_type": "code",
      "source": "# [ ] review the NUMBER GUESS code then run - Q. what cause the break statement to run?\nnumber_guess = \"0\"\nsecret_number = \"5\"\n\nwhile True:\n    number_guess = input(\"guess the number 1 to 5: \")\n    if number_guess == secret_number:\n        print(\"Yes\", number_guess,\"is correct!\\n\")\n        break\n    else:\n        print(number_guess,\"is incorrect\\n\")",
      "execution_count": 3,
      "outputs": [
        {
          "output_type": "stream",
          "name": "stdout",
          "text": "guess the number 1 to 5: 0\n0 is incorrect\n\nguess the number 1 to 5: 1\n1 is incorrect\n\nguess the number 1 to 5: 9\n9 is incorrect\n\n"
        },
        {
          "output_type": "error",
          "ename": "KeyboardInterrupt",
          "evalue": "",
          "traceback": [
            "\u001b[0;31m---------------------------------------------------------------------------\u001b[0m",
            "\u001b[0;31mKeyboardInterrupt\u001b[0m                         Traceback (most recent call last)",
            "\u001b[0;32m~/anaconda3_420/lib/python3.5/site-packages/ipykernel/kernelbase.py\u001b[0m in \u001b[0;36m_input_request\u001b[0;34m(self, prompt, ident, parent, password)\u001b[0m\n\u001b[1;32m    726\u001b[0m             \u001b[0;32mtry\u001b[0m\u001b[0;34m:\u001b[0m\u001b[0;34m\u001b[0m\u001b[0m\n\u001b[0;32m--> 727\u001b[0;31m                 \u001b[0mident\u001b[0m\u001b[0;34m,\u001b[0m \u001b[0mreply\u001b[0m \u001b[0;34m=\u001b[0m \u001b[0mself\u001b[0m\u001b[0;34m.\u001b[0m\u001b[0msession\u001b[0m\u001b[0;34m.\u001b[0m\u001b[0mrecv\u001b[0m\u001b[0;34m(\u001b[0m\u001b[0mself\u001b[0m\u001b[0;34m.\u001b[0m\u001b[0mstdin_socket\u001b[0m\u001b[0;34m,\u001b[0m \u001b[0;36m0\u001b[0m\u001b[0;34m)\u001b[0m\u001b[0;34m\u001b[0m\u001b[0m\n\u001b[0m\u001b[1;32m    728\u001b[0m             \u001b[0;32mexcept\u001b[0m \u001b[0mException\u001b[0m\u001b[0;34m:\u001b[0m\u001b[0;34m\u001b[0m\u001b[0m\n",
            "\u001b[0;32m~/anaconda3_420/lib/python3.5/site-packages/jupyter_client/session.py\u001b[0m in \u001b[0;36mrecv\u001b[0;34m(self, socket, mode, content, copy)\u001b[0m\n\u001b[1;32m    795\u001b[0m         \u001b[0;32mtry\u001b[0m\u001b[0;34m:\u001b[0m\u001b[0;34m\u001b[0m\u001b[0m\n\u001b[0;32m--> 796\u001b[0;31m             \u001b[0mmsg_list\u001b[0m \u001b[0;34m=\u001b[0m \u001b[0msocket\u001b[0m\u001b[0;34m.\u001b[0m\u001b[0mrecv_multipart\u001b[0m\u001b[0;34m(\u001b[0m\u001b[0mmode\u001b[0m\u001b[0;34m,\u001b[0m \u001b[0mcopy\u001b[0m\u001b[0;34m=\u001b[0m\u001b[0mcopy\u001b[0m\u001b[0;34m)\u001b[0m\u001b[0;34m\u001b[0m\u001b[0m\n\u001b[0m\u001b[1;32m    797\u001b[0m         \u001b[0;32mexcept\u001b[0m \u001b[0mzmq\u001b[0m\u001b[0;34m.\u001b[0m\u001b[0mZMQError\u001b[0m \u001b[0;32mas\u001b[0m \u001b[0me\u001b[0m\u001b[0;34m:\u001b[0m\u001b[0;34m\u001b[0m\u001b[0m\n",
            "\u001b[0;32m~/anaconda3_420/lib/python3.5/site-packages/zmq/sugar/socket.py\u001b[0m in \u001b[0;36mrecv_multipart\u001b[0;34m(self, flags, copy, track)\u001b[0m\n\u001b[1;32m    394\u001b[0m         \"\"\"\n\u001b[0;32m--> 395\u001b[0;31m         \u001b[0mparts\u001b[0m \u001b[0;34m=\u001b[0m \u001b[0;34m[\u001b[0m\u001b[0mself\u001b[0m\u001b[0;34m.\u001b[0m\u001b[0mrecv\u001b[0m\u001b[0;34m(\u001b[0m\u001b[0mflags\u001b[0m\u001b[0;34m,\u001b[0m \u001b[0mcopy\u001b[0m\u001b[0;34m=\u001b[0m\u001b[0mcopy\u001b[0m\u001b[0;34m,\u001b[0m \u001b[0mtrack\u001b[0m\u001b[0;34m=\u001b[0m\u001b[0mtrack\u001b[0m\u001b[0;34m)\u001b[0m\u001b[0;34m]\u001b[0m\u001b[0;34m\u001b[0m\u001b[0m\n\u001b[0m\u001b[1;32m    396\u001b[0m         \u001b[0;31m# have first part already, only loop while more to receive\u001b[0m\u001b[0;34m\u001b[0m\u001b[0;34m\u001b[0m\u001b[0m\n",
            "\u001b[0;32mzmq/backend/cython/socket.pyx\u001b[0m in \u001b[0;36mzmq.backend.cython.socket.Socket.recv (zmq/backend/cython/socket.c:7291)\u001b[0;34m()\u001b[0m\n",
            "\u001b[0;32mzmq/backend/cython/socket.pyx\u001b[0m in \u001b[0;36mzmq.backend.cython.socket.Socket.recv (zmq/backend/cython/socket.c:7089)\u001b[0;34m()\u001b[0m\n",
            "\u001b[0;32mzmq/backend/cython/socket.pyx\u001b[0m in \u001b[0;36mzmq.backend.cython.socket._recv_copy (zmq/backend/cython/socket.c:2041)\u001b[0;34m()\u001b[0m\n",
            "\u001b[0;32m~/anaconda3_420/lib/python3.5/site-packages/zmq/backend/cython/checkrc.pxd\u001b[0m in \u001b[0;36mzmq.backend.cython.checkrc._check_rc (zmq/backend/cython/socket.c:9229)\u001b[0;34m()\u001b[0m\n",
            "\u001b[0;31mKeyboardInterrupt\u001b[0m: ",
            "\nDuring handling of the above exception, another exception occurred:\n",
            "\u001b[0;31mKeyboardInterrupt\u001b[0m                         Traceback (most recent call last)",
            "\u001b[0;32m<ipython-input-3-1515f379fbf4>\u001b[0m in \u001b[0;36m<module>\u001b[0;34m()\u001b[0m\n\u001b[1;32m      4\u001b[0m \u001b[0;34m\u001b[0m\u001b[0m\n\u001b[1;32m      5\u001b[0m \u001b[0;32mwhile\u001b[0m \u001b[0;32mTrue\u001b[0m\u001b[0;34m:\u001b[0m\u001b[0;34m\u001b[0m\u001b[0m\n\u001b[0;32m----> 6\u001b[0;31m     \u001b[0mnumber_guess\u001b[0m \u001b[0;34m=\u001b[0m \u001b[0minput\u001b[0m\u001b[0;34m(\u001b[0m\u001b[0;34m\"guess the number 1 to 5: \"\u001b[0m\u001b[0;34m)\u001b[0m\u001b[0;34m\u001b[0m\u001b[0m\n\u001b[0m\u001b[1;32m      7\u001b[0m     \u001b[0;32mif\u001b[0m \u001b[0mnumber_guess\u001b[0m \u001b[0;34m==\u001b[0m \u001b[0msecret_number\u001b[0m\u001b[0;34m:\u001b[0m\u001b[0;34m\u001b[0m\u001b[0m\n\u001b[1;32m      8\u001b[0m         \u001b[0mprint\u001b[0m\u001b[0;34m(\u001b[0m\u001b[0;34m\"Yes\"\u001b[0m\u001b[0;34m,\u001b[0m \u001b[0mnumber_guess\u001b[0m\u001b[0;34m,\u001b[0m\u001b[0;34m\"is correct!\\n\"\u001b[0m\u001b[0;34m)\u001b[0m\u001b[0;34m\u001b[0m\u001b[0m\n",
            "\u001b[0;32m~/anaconda3_420/lib/python3.5/site-packages/ipykernel/kernelbase.py\u001b[0m in \u001b[0;36mraw_input\u001b[0;34m(self, prompt)\u001b[0m\n\u001b[1;32m    700\u001b[0m             \u001b[0mself\u001b[0m\u001b[0;34m.\u001b[0m\u001b[0m_parent_ident\u001b[0m\u001b[0;34m,\u001b[0m\u001b[0;34m\u001b[0m\u001b[0m\n\u001b[1;32m    701\u001b[0m             \u001b[0mself\u001b[0m\u001b[0;34m.\u001b[0m\u001b[0m_parent_header\u001b[0m\u001b[0;34m,\u001b[0m\u001b[0;34m\u001b[0m\u001b[0m\n\u001b[0;32m--> 702\u001b[0;31m             \u001b[0mpassword\u001b[0m\u001b[0;34m=\u001b[0m\u001b[0;32mFalse\u001b[0m\u001b[0;34m,\u001b[0m\u001b[0;34m\u001b[0m\u001b[0m\n\u001b[0m\u001b[1;32m    703\u001b[0m         )\n\u001b[1;32m    704\u001b[0m \u001b[0;34m\u001b[0m\u001b[0m\n",
            "\u001b[0;32m~/anaconda3_420/lib/python3.5/site-packages/ipykernel/kernelbase.py\u001b[0m in \u001b[0;36m_input_request\u001b[0;34m(self, prompt, ident, parent, password)\u001b[0m\n\u001b[1;32m    730\u001b[0m             \u001b[0;32mexcept\u001b[0m \u001b[0mKeyboardInterrupt\u001b[0m\u001b[0;34m:\u001b[0m\u001b[0;34m\u001b[0m\u001b[0m\n\u001b[1;32m    731\u001b[0m                 \u001b[0;31m# re-raise KeyboardInterrupt, to truncate traceback\u001b[0m\u001b[0;34m\u001b[0m\u001b[0;34m\u001b[0m\u001b[0m\n\u001b[0;32m--> 732\u001b[0;31m                 \u001b[0;32mraise\u001b[0m \u001b[0mKeyboardInterrupt\u001b[0m\u001b[0;34m\u001b[0m\u001b[0m\n\u001b[0m\u001b[1;32m    733\u001b[0m             \u001b[0;32melse\u001b[0m\u001b[0;34m:\u001b[0m\u001b[0;34m\u001b[0m\u001b[0m\n\u001b[1;32m    734\u001b[0m                 \u001b[0;32mbreak\u001b[0m\u001b[0;34m\u001b[0m\u001b[0m\n",
            "\u001b[0;31mKeyboardInterrupt\u001b[0m: "
          ]
        }
      ]
    },
    {
      "metadata": {
        "trusted": true
      },
      "cell_type": "code",
      "source": "# [ ] review WHAT TO WEAR code then run testing different inputs\nwhile True:\n    weather = input(\"Enter weather (sunny, rainy, snowy, or quit): \") \n    print()\n\n    if weather.lower() == \"sunny\":\n        print(\"Wear a t-shirt and sunscreen\")\n        break\n    elif weather.lower() == \"rainy\":\n        print(\"Bring an umbrella and boots\")\n        break\n    elif weather.lower() == \"snowy\":\n        print(\"Wear a warm coat and hat\")\n        break\n    elif weather.lower().startswith(\"q\"):\n        print('\"quit\" detected, exiting')\n        break\n    else:\n        print(\"Sorry, not sure what to suggest for\", weather +\"\\n\")",
      "execution_count": 5,
      "outputs": [
        {
          "output_type": "stream",
          "name": "stdout",
          "text": "Enter weather (sunny, rainy, snowy, or quit): q\n\n\"quit\" detected, exiting\n"
        }
      ]
    },
    {
      "metadata": {},
      "cell_type": "markdown",
      "source": "# &nbsp;\n<font size=\"6\" color=\"#B24C00\"  face=\"verdana\"> <B>Task 1</B></font>\n## `while True` \n### [ ] Program: Get a name forever ...or until done\n- create variable, familar_name, and assign it an empty string (**`\"\"`**)\n- use **`while True:`**\n- ask for user input for familar_name (common name friends/family use) \n- keep asking until given a non-blank/non-space alphabetical name is received (Hint: Boolean string test)\n- break loop and print a greeting using familar_name"
    },
    {
      "metadata": {
        "trusted": true
      },
      "cell_type": "code",
      "source": "# [ ] create Get Name program\nfamiliar_name = \"\"\nwhile True:\n    familiar_name = input (\"Enter name Polina, Flavian, Maxi or quit: \")\n    print()\n    if familiar_name == \"Polina\":\n        print(\"pretty name\")\n        break\n    elif familiar_name == \"Flavian\":\n        print(\"cool name\")\n        break\n    elif familiar_name == \"Maxi\":\n        print(\"the best name\")\n        break\n    elif familiar_name.isalpha() == False:\n        print(\"quit search\")\n        break\n    else:\n        print(\"sorry not in the range\")",
      "execution_count": 1,
      "outputs": [
        {
          "output_type": "stream",
          "name": "stdout",
          "text": "Enter name Polina, Flavian, Maxi or quit:  \n\nquit search\n"
        }
      ]
    },
    {
      "metadata": {
        "trusted": true
      },
      "cell_type": "code",
      "source": "",
      "execution_count": null,
      "outputs": []
    },
    {
      "metadata": {
        "collapsed": true
      },
      "cell_type": "markdown",
      "source": "# &nbsp;\n<font size=\"6\" color=\"#00A0B2\"  face=\"verdana\"> <B>Concept</B></font>\n## Incrementing a variable\n[![view video](https://iajupyterprodblobs.blob.core.windows.net/imagecontainer/common/play_video.png)]( http://edxinteractivepage.blob.core.windows.net/edxpages/f7cff1a7-5601-48a1-95a6-fd1fdfabd20e.html?details=[{%22src%22:%22http://jupyternootbookwams.streaming.mediaservices.windows.net/cc7925d2-0652-4659-93fb-f4cc8d09ac51/Unit1_Section7.1-increment.ism/manifest%22,%22type%22:%22application/vnd.ms-sstr+xml%22}],[{%22src%22:%22http://jupyternootbookwams.streaming.mediaservices.windows.net/cc7925d2-0652-4659-93fb-f4cc8d09ac51/Unit1_Section7.1-increment.vtt%22,%22srclang%22:%22en%22,%22kind%22:%22subtitles%22,%22label%22:%22english%22}])\n## Incrementing\n### `votes = votes + 1` &nbsp; &nbsp; or &nbsp;  `votes += 1`\n\n## Decrementing \n### `votes = votes - 1` &nbsp; &nbsp; or &nbsp; `votes -= 1`"
    },
    {
      "metadata": {},
      "cell_type": "markdown",
      "source": "# &nbsp;\n<font size=\"6\" color=\"#00A0B2\"  face=\"verdana\"> <B>Examples</B></font>\n  \n"
    },
    {
      "metadata": {
        "trusted": true
      },
      "cell_type": "code",
      "source": "# [ ] review and run example\nvotes = 3\nprint(votes)\n\nvotes = votes + 1\nprint(votes)\n\nvotes += 2\nprint(votes)",
      "execution_count": 5,
      "outputs": [
        {
          "output_type": "stream",
          "text": "3\n4\n6\n",
          "name": "stdout"
        }
      ]
    },
    {
      "metadata": {
        "trusted": true
      },
      "cell_type": "code",
      "source": "print(votes)\n\nvotes -= 1\nprint(votes)",
      "execution_count": 12,
      "outputs": [
        {
          "output_type": "stream",
          "text": "0\n-1\n",
          "name": "stdout"
        }
      ]
    },
    {
      "metadata": {
        "trusted": true
      },
      "cell_type": "code",
      "source": "# [ ] review the SEAT COUNT code then run \n\nseat_count = 0\nwhile True:\n    print(\"seat count:\",seat_count)\n    seat_count = seat_count + 1\n\n    if seat_count > 4:\n        break",
      "execution_count": 15,
      "outputs": [
        {
          "output_type": "stream",
          "text": "seat count: 0\nseat count: 1\nseat count: 2\nseat count: 3\nseat count: 4\n",
          "name": "stdout"
        }
      ]
    },
    {
      "metadata": {
        "trusted": true
      },
      "cell_type": "code",
      "source": "# [ ] review the SEAT TYPE COUNT code then run entering: hard, soft, medium and exit\n\n# initialize variables\nseat_count = 0\nsoft_seats = 0\nhard_seats = 0\nnum_seats = 4\n\n# loops tallying seats using soft pads vs hard, until seats full or user \"exits\"\nwhile True:\n    seat_type = input('enter seat type of \"hard\",\"soft\" or \"exit\" (to finish): ')\n    \n    if seat_type.lower().startswith(\"e\"):\n        print()\n        break\n    elif seat_type.lower() == \"hard\":\n        hard_seats += 1\n    elif seat_type.lower() == \"soft\":\n        soft_seats += 1\n    else:\n        print(\"invalid entry: counted as hard\")\n        hard_seats += 1  \n    seat_count += 1\n    if seat_count >= num_seats:\n        print(\"\\nseats are full\")\n        break\n        \nprint(seat_count,\"Seats Total: \",hard_seats,\"hard and\",soft_seats,\"soft\" )",
      "execution_count": 16,
      "outputs": [
        {
          "output_type": "stream",
          "name": "stdout",
          "text": "enter seat type of \"hard\",\"soft\" or \"exit\" (to finish): h\ninvalid entry: counted as hard\nenter seat type of \"hard\",\"soft\" or \"exit\" (to finish): s\ninvalid entry: counted as hard\nenter seat type of \"hard\",\"soft\" or \"exit\" (to finish): soft\nenter seat type of \"hard\",\"soft\" or \"exit\" (to finish): hard\n\nseats are full\n4 Seats Total:  3 hard and 1 soft\n"
        }
      ]
    },
    {
      "metadata": {},
      "cell_type": "markdown",
      "source": "# &nbsp;\n<font size=\"6\" color=\"#B24C00\"  face=\"verdana\"> <B>Task 2</B></font>\n## incrementing in a `while()` loop\n### Program: Shirt Count\n- enter a sizes (S, M, L)\n- tally the count of each size\n- input \"exit\" when finished\n- report out the purchase of each shirt size  \n"
    },
    {
      "metadata": {
        "trusted": true
      },
      "cell_type": "code",
      "source": "# [ ] Create the Shirt Count program, run tests\nshirt_amount = 5\nsize_small = 0\nsize_medium = 0\nsize_large = 0\nshirt_count = 0\nwhile True:\n    shirt_size = input(\"enter shirt size or exit: \")\n    \n    if shirt_size.lower().startswith(\"e\"):\n        print (\"end of task\")\n        break\n    elif shirt_size.lower() == \"small\":\n        size_small += 1\n    elif shirt_size.lower() == \"medium\":\n        size_medium += 1\n    elif shirt_size.lower() == \"large\":\n        size_large += 1\n    else:\n        print (\"no such thing\")\n    shirt_count += 1\n    if shirt_count >= shirt_amount:\n        print(\"count is over, total amount is \", shirt_count)\n        break\n    \nprint(\"total count of small is \", size_small)\nprint(\"total count of medium is \", size_medium)\nprint(\"total count of large is \",size_large)\n\n",
      "execution_count": 34,
      "outputs": [
        {
          "output_type": "stream",
          "name": "stdout",
          "text": "enter shirt size or exit: small\nenter shirt size or exit: largg\nno such thing\nenter shirt size or exit: medium\nenter shirt size or exit: large\nenter shirt size or exit: small\ncount is over, total amount is  5\ntotal count of small is  2\ntotal count of medium is  1\ntotal count of large is  1\n"
        }
      ]
    },
    {
      "metadata": {},
      "cell_type": "markdown",
      "source": "### CHALLENGE: Shirt Register (optional)  \nUpdate the **Shirt Count** program to calculate cost\n- use shirt cost (S = 6, M = 7, L = 8)\n- to calculate and report the subtotal cost for each size \n- to calculate and report the total cost of all shirts"
    },
    {
      "metadata": {
        "trusted": false
      },
      "cell_type": "code",
      "source": "# [ ] Create the Shirt Register program, run tests\n\n",
      "execution_count": null,
      "outputs": []
    },
    {
      "metadata": {},
      "cell_type": "markdown",
      "source": "[Terms of use](http://go.microsoft.com/fwlink/?LinkID=206977) &nbsp; [Privacy & cookies](https://go.microsoft.com/fwlink/?LinkId=521839) &nbsp; © 2017 Microsoft"
    }
  ],
  "metadata": {
    "anaconda-cloud": {},
    "kernelspec": {
      "name": "python3",
      "display_name": "Python 3",
      "language": "python"
    },
    "language_info": {
      "mimetype": "text/x-python",
      "nbconvert_exporter": "python",
      "name": "python",
      "file_extension": ".py",
      "version": "3.5.4",
      "pygments_lexer": "ipython3",
      "codemirror_mode": {
        "version": 3,
        "name": "ipython"
      }
    }
  },
  "nbformat": 4,
  "nbformat_minor": 1
}