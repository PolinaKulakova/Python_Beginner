{
  "cells": [
    {
      "metadata": {},
      "cell_type": "markdown",
      "source": "# 1-4.3 Intro Python Practice\n## Conditionals \n<font size=\"5\" color=\"#00A0B2\"  face=\"verdana\"> <B>Student will be able to</B></font>  \n- **control code flow with `if`... `else` conditional logic**  \n  - using Boolean string methods (`.isupper(), .isalpha(), .startswith()...`)  \n  - using comparision (`>, <, >=, <=, ==, !=`)  \n  - using Strings in comparisons  "
    },
    {
      "metadata": {},
      "cell_type": "markdown",
      "source": "## `if else`\n"
    },
    {
      "metadata": {
        "trusted": true
      },
      "cell_type": "code",
      "source": "# [ ] input avariable: age as digit and cast to int\n# if age greater than or equal to 12 then print message on age in 10 years \n# or else print message \"It is good to be\" age\nage = input(\"Enter your age: \")\nnew_age = int(age)\nif new_age >= 12:\n    print(\"The age in 10 years is: \", new_age + 10)\nelse:\n    print(\"It's good to be\", new_age)\n\n\n\n",
      "execution_count": 5,
      "outputs": [
        {
          "output_type": "stream",
          "name": "stdout",
          "text": "Enter your age: 32\nThe age in 10 years is:  42\n"
        }
      ]
    },
    {
      "metadata": {
        "trusted": true
      },
      "cell_type": "code",
      "source": "# [ ] input a number \n# if number IS a digit string then cast to int\n# print number \"greater than 100 is\" True/False\n# if number is NOT a digit string then message the user that \"only int is accepted\"\nnum = input(\"Enter your number here: \")\nif num == str:\n    new_num = int(num)\nelif new_num >= 100:\n    print(new_num, \"greater than 100 is True\")\nelif new_num < 100:\n    print(new_num,\"less than 100\")\nelse:\n    print(\"only int is accepted\")\n",
      "execution_count": 79,
      "outputs": [
        {
          "output_type": "stream",
          "name": "stdout",
          "text": "Enter your number here: 100\n200 greater than 100 is True\n"
        }
      ]
    },
    {
      "metadata": {},
      "cell_type": "markdown",
      "source": "### Guessing a letter A-Z  \n**check_guess()** takes 2 string arguments: **letter and guess** (both expect single alphabetical character)   \n    - if guess is not an alpha character print invalid and return False\n    - test and print if guess is \"high\" or \"low\" and return False\n    - test and print if guess is \"correct\" and return True"
    },
    {
      "metadata": {
        "trusted": true
      },
      "cell_type": "code",
      "source": "# [ ] create check_guess()\n# call with test\ndef check_guess(letter,guess):\n   \n    if guess.isalpha() == False:\n        print(\"Invalid\")\n    elif guess < letter.lower():\n        print(\"Low\")\n        return False\n    elif guess > letter.lower():\n        print(\"High\")\n        return False\n    else:\n        print(\"Correct\")\n        return True\nguess = input (\"Enter your letter here: \")\nletter = \"M\"\n\n\n",
      "execution_count": 74,
      "outputs": [
        {
          "output_type": "stream",
          "name": "stdout",
          "text": "Enter your letter here: z\n"
        }
      ]
    },
    {
      "metadata": {
        "trusted": true
      },
      "cell_type": "code",
      "source": "# [ ] call check_guess with user input\ncheck_guess(letter, guess)\n",
      "execution_count": 75,
      "outputs": [
        {
          "output_type": "stream",
          "text": "High\n",
          "name": "stdout"
        },
        {
          "output_type": "execute_result",
          "execution_count": 75,
          "data": {
            "text/plain": "False"
          },
          "metadata": {}
        }
      ]
    },
    {
      "metadata": {},
      "cell_type": "markdown",
      "source": "### Letter Guess\n**create letter_guess() function that gives user 3 guesses**\n- takes a letter character argument for the answer letter\n- gets user input for letter guess  \n- calls check_guess() with answer and guess\n- End letter_guess if \n    - check_guess() equals True, return True  \n    - or after 3 failed attempts, return False"
    },
    {
      "metadata": {
        "trusted": true
      },
      "cell_type": "code",
      "source": "# [ ] create letter_guess() function, call the function to test\ndef check_guess(letter,guess):   \n    if guess.isalpha() == False:\n        print(\"Invalid\")\n    elif guess < letter.lower():\n        print(\"Low\")\n        return False\n    elif guess > letter.lower():\n        print(\"High\")\n        return False\n    else:\n        print(\"Correct\")\n        return True\nguess = input (\"Enter your letter here: \")\nletter = \"M\"\ndef letter_guess (letter, guess):\n    if check_guess(letter,guess) == True:\n        return True\n    elif check_guess == False:\n        return False\n    else:\n        print (\"Sorry, out of luck!\")\nletter_guess(letter, guess)\n    \n\n\n",
      "execution_count": 88,
      "outputs": [
        {
          "output_type": "stream",
          "name": "stdout",
          "text": "Enter your letter here: z\nHigh\nSorry, out of luck!\n"
        }
      ]
    },
    {
      "metadata": {},
      "cell_type": "markdown",
      "source": "### Pet Conversation\n**ask the user for a sentence about a pet and then reply**  \n- get user input in variable: about_pet\n- using a series of **if** statements respond with appropriate conversation\n  - check if \"dog\" is in the string about_pet (sample reply \"Ah, a dog\")\n  - check if \"cat\" is in the string about_pet\n  - check if 1 or more animal is in string about_pet\n- no need for **else**'s\n- finish with thanking for the story"
    },
    {
      "metadata": {
        "trusted": true
      },
      "cell_type": "code",
      "source": "# [ ] complete pet conversation\nabout_pet = input(\"What is your favorite pet? \")\nif \"dog\" == about_pet.lower():\n    print(\"Ah,a dog\")\nelif \"cat\" == about_pet.lower():\n    print(\"Oh, a cat\")\nelif \"fish\" == about_pet.lower():\n    print (\"Uh, a fish\")\nelse:\n    pass\nprint(\"Thank you for lovely story\")\n\n\n",
      "execution_count": 91,
      "outputs": [
        {
          "output_type": "stream",
          "name": "stdout",
          "text": "What is your favorite pet? fish\nUh, a fish\nThank you for lovely story\n"
        }
      ]
    },
    {
      "metadata": {
        "collapsed": true
      },
      "cell_type": "markdown",
      "source": "[Terms of use](http://go.microsoft.com/fwlink/?LinkID=206977) &nbsp; [Privacy & cookies](https://go.microsoft.com/fwlink/?LinkId=521839) &nbsp; © 2017 Microsoft"
    }
  ],
  "metadata": {
    "anaconda-cloud": {},
    "kernelspec": {
      "name": "python3",
      "display_name": "Python 3",
      "language": "python"
    },
    "language_info": {
      "mimetype": "text/x-python",
      "nbconvert_exporter": "python",
      "name": "python",
      "file_extension": ".py",
      "version": "3.5.4",
      "pygments_lexer": "ipython3",
      "codemirror_mode": {
        "version": 3,
        "name": "ipython"
      }
    }
  },
  "nbformat": 4,
  "nbformat_minor": 1
}