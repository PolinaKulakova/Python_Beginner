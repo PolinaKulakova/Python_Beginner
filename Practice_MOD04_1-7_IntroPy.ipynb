{
  "cells": [
    {
      "metadata": {},
      "cell_type": "markdown",
      "source": "# 1-7.2 Intro Python Practice\n## `while()` loops & increments\n<font size=\"5\" color=\"#00A0B2\"  face=\"verdana\"> <B>Student will be able to</B></font>\n- create forever loops using `while` and `break`\n- use incrementing variables in a while loop\n- control while loops using Boolean operators"
    },
    {
      "metadata": {
        "trusted": true
      },
      "cell_type": "code",
      "source": "# [ ] use a \"forever\" while loop to get user input of integers to add to sum, \n# until a non-digit is entered, then break the loop and print sum\nsum = 6\n\nwhile True:\n    user_input = input(\"add to sum or quit \")\n    if user_input.isdigit():\n        print(int(user_input) + sum)\n        if user_input.isalpha():\n            print(\"quitting loop...\")\n            break\n        else:\n            pass\n    else:\n        break\n\n",
      "execution_count": 25,
      "outputs": [
        {
          "output_type": "stream",
          "name": "stdout",
          "text": "add to sum or quit 44\n50\nadd to sum or quit 55\n61\nadd to sum or quit q\n6\n"
        }
      ]
    },
    {
      "metadata": {
        "trusted": true
      },
      "cell_type": "code",
      "source": "# [ ] use a while True loop (forever loop) to give 4 chances for input of a correct color in a rainbow\n# rainbow = \"red orange yellow green blue indigo violet\"\nrainbow = \"red,orange,yellow green blue indigo violet\"\nattempts = 4\nwhile attempts > 0:\n    user_input = input (\"enter your guess: \")\n    if user_input.lower() in rainbow:\n        print(\"correct!\")\n        break\n    else: \n        print(\"keep trying...\")\n        attempts -= 1\nprint(\"game over\")\n",
      "execution_count": 53,
      "outputs": [
        {
          "output_type": "stream",
          "name": "stdout",
          "text": "enter your guess: black\nkeep trying...\nenter your guess: gary\nkeep trying...\nenter your guess: white\nkeep trying...\nenter your guess: blue\ncorrect!\ngame over\n"
        }
      ]
    },
    {
      "metadata": {
        "trusted": true
      },
      "cell_type": "code",
      "source": "",
      "execution_count": null,
      "outputs": []
    },
    {
      "metadata": {
        "trusted": true
      },
      "cell_type": "code",
      "source": "# [ ] Get input for a book title, keep looping while input is Not in title format (title is every word capitalized)\ntitle = input(\"enter your book: \")\n\nwhile True:\n    if title.istitle() == True:\n        print (\"good work\")\n        break\n    else:\n        title = input(\"enter your book: \")\n\nprint (\"GAME OVER\")",
      "execution_count": 9,
      "outputs": [
        {
          "output_type": "stream",
          "name": "stdout",
          "text": "enter your book: jfksdfl\nenter your book: dsfjkjsd\nenter your book: sdjfljf\nenter your book: Hunger Games\ngood work\nGAME OVER\n"
        }
      ]
    },
    {
      "metadata": {
        "trusted": false
      },
      "cell_type": "code",
      "source": "# [ ] create a math quiz question and ask for the solution until the input is correct\n\n",
      "execution_count": null,
      "outputs": []
    },
    {
      "metadata": {},
      "cell_type": "markdown",
      "source": "### Fix the Error"
    },
    {
      "metadata": {
        "trusted": true
      },
      "cell_type": "code",
      "source": "# [ ] review the code, run, fix the error\ntickets = int(input(\"enter tickets remaining (0 to quit): \"))\n\nwhile tickets > 0:\n        # if tickets are multiple of 3 then \"winner\"\n    if int(tickets/3) == tickets/3:\n        print(\"you win!\")\n        break\n    else:\n        print(\"sorry, not a winner.\")\n        tickets = int(input(\"enter tickets remaining (0 to quit): \"))\nprint(\"Game ended\")\n    \n",
      "execution_count": 14,
      "outputs": [
        {
          "output_type": "stream",
          "name": "stdout",
          "text": "enter tickets remaining (0 to quit): 7\nsorry, not a winner.\nenter tickets remaining (0 to quit): 7\nsorry, not a winner.\nenter tickets remaining (0 to quit): 8\nsorry, not a winner.\nenter tickets remaining (0 to quit): 9\nyou win!\nGame ended\n"
        }
      ]
    },
    {
      "metadata": {},
      "cell_type": "markdown",
      "source": "### create a function: quiz_item()  that asks a question and tests if input is correct  \n- quiz_item()has 2 parameter **strings**: question and solution  \n- shows question, gets answer input  \n- returns True if `answer == solution` or continues to ask question until correct answer is provided  \n- use a while loop\n\ncreate 2 or more quiz questions that call quiz_item()  \n**Hint**: provide multiple choice or T/F answers"
    },
    {
      "metadata": {
        "trusted": true
      },
      "cell_type": "code",
      "source": "# Create quiz_item() and 2 or more quiz questions that call quiz_item()\nsolution = \"blue\"\nquestion = \"What color is the sky?\"\ndef quiz_item (question, solution):\n    while True:\n        if answer.lower() == solution:\n            print(\"correct\")\n            return True\n        else:\n            print(\"false\")\n            return False\n\nprint(question)\nanswer = input(\"print your response here: \")\n\nquiz_item(question,solution)\n",
      "execution_count": 24,
      "outputs": [
        {
          "output_type": "stream",
          "text": "What color is the sky?\nprint your response here: blue\ncorrect\n",
          "name": "stdout"
        },
        {
          "output_type": "execute_result",
          "execution_count": 24,
          "data": {
            "text/plain": "True"
          },
          "metadata": {}
        }
      ]
    },
    {
      "metadata": {
        "collapsed": true
      },
      "cell_type": "markdown",
      "source": "[Terms of use](http://go.microsoft.com/fwlink/?LinkID=206977) &nbsp; [Privacy & cookies](https://go.microsoft.com/fwlink/?LinkId=521839) &nbsp; © 2017 Microsoft"
    },
    {
      "metadata": {
        "trusted": true
      },
      "cell_type": "code",
      "source": "",
      "execution_count": null,
      "outputs": []
    }
  ],
  "metadata": {
    "anaconda-cloud": {},
    "kernelspec": {
      "name": "python3",
      "display_name": "Python 3",
      "language": "python"
    }
  },
  "nbformat": 4,
  "nbformat_minor": 1
}